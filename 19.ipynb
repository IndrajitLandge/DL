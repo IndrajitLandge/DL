import tensorflow as tf
import tensorflow_datasets as tfds
import numpy as np
import matplotlib.pyplot as plt

# Load dataset into memory as NumPy arrays
ds_train, ds_test = tfds.as_numpy(tfds.load('emnist/letters', split=['train', 'test'], batch_size=-1, as_supervised=True))
train_images, train_labels = ds_train
test_images, test_labels = ds_test

# Normalize images to [0, 1] and correct label index (1–26 -> 0–25)
train_images = train_images.astype('float32') / 255.0
test_images = test_images.astype('float32') / 255.0
train_labels = train_labels - 1
test_labels = test_labels - 1

# Constants
BATCH_SIZE = 64
EPOCHS = 20
NUM_CLASSES = 26

# ------------------- DNN Model ------------------- #
# Flatten images for DNN input
train_images_dnn = train_images.reshape(-1, 28 * 28)
test_images_dnn = test_images.reshape(-1, 28 * 28)

dnn_model = tf.keras.Sequential([
    tf.keras.layers.Input(shape=(28 * 28,)),
    tf.keras.layers.Dense(256, activation='relu'),
    tf.keras.layers.Dense(128, activation='relu'),
    tf.keras.layers.Dense(NUM_CLASSES, activation='softmax')
])
dnn_model.compile(optimizer='adam', loss='sparse_categorical_crossentropy', metrics=['accuracy'])

print("Training DNN...")
dnn_history = dnn_model.fit(train_images_dnn, train_labels, validation_data=(test_images_dnn, test_labels),
                            epochs=EPOCHS, batch_size=BATCH_SIZE)

# ------------------- CNN Model ------------------- #
train_images_cnn = train_images.reshape(-1, 28, 28, 1)
test_images_cnn = test_images.reshape(-1, 28, 28, 1)

cnn_model = tf.keras.Sequential([
    tf.keras.layers.Conv2D(32, (3, 3), activation='relu', input_shape=(28, 28, 1)),
    tf.keras.layers.MaxPooling2D((2, 2)),
    tf.keras.layers.Conv2D(64, (3, 3), activation='relu'),
    tf.keras.layers.MaxPooling2D((2, 2)),
    tf.keras.layers.Flatten(),
    tf.keras.layers.Dense(128, activation='relu'),
    tf.keras.layers.Dense(NUM_CLASSES, activation='softmax')
])
cnn_model.compile(optimizer='adam', loss='sparse_categorical_crossentropy', metrics=['accuracy'])

print("Training CNN...")
cnn_history = cnn_model.fit(train_images_cnn, train_labels, validation_data=(test_images_cnn, test_labels),
                            epochs=EPOCHS, batch_size=BATCH_SIZE)

# ------------------- Plot Comparison ------------------- #
plt.plot(dnn_history.history['val_accuracy'], label='DNN Val Accuracy')
plt.plot(cnn_history.history['val_accuracy'], label='CNN Val Accuracy')
plt.xlabel('Epoch')
plt.ylabel('Validation Accuracy')
plt.title('DNN vs CNN Accuracy on EMNIST Alphabet Dataset')
plt.legend()
plt.grid(True)
plt.show()
