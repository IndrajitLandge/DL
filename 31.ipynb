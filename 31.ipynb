import numpy as np
import pandas as pd
import matplotlib.pyplot as plt
import tensorflow as tf
from tensorflow.keras.models import Sequential
from tensorflow.keras.layers import LSTM, Dense
from sklearn.preprocessing import MinMaxScaler

# Load the CSV file
df = pd.read_csv('GOOGL.csv')

# Use only 'Close' prices
data = df['Close'].values.reshape(-1, 1)

# Normalize
scaler = MinMaxScaler()
scaled_data = scaler.fit_transform(data)

# Create sequences (60 timesteps)
def create_sequences(data, seq_len=60):
    X, y = [], []
    for i in range(seq_len, len(data)):
        X.append(data[i-seq_len:i])
        y.append(data[i])
    return np.array(X), np.array(y)

X, y = create_sequences(scaled_data)

# Train-test split
split = int(0.8 * len(X))
X_train, X_test = X[:split], X[split:]
y_train, y_test = y[:split], y[split:]

# Define function to build LSTM model
def build_model(learning_rate):
    model = Sequential()
    model.add(LSTM(50, return_sequences=False, input_shape=(X.shape[1], 1)))
    model.add(Dense(1))
    model.compile(optimizer=tf.keras.optimizers.Adam(learning_rate=learning_rate),
                  loss='mean_squared_error',
                  metrics=['mae'])
    return model

# Reshape input for LSTM
X_train = X_train.reshape(X_train.shape[0], X_train.shape[1], 1)
X_test  = X_test.reshape(X_test.shape[0], X_test.shape[1], 1)

# Train two models
model_20 = build_model(0.001)
history_20 = model_20.fit(X_train, y_train, epochs=20, batch_size=32, validation_data=(X_test, y_test), verbose=1)

model_50 = build_model(0.0001)
history_50 = model_50.fit(X_train, y_train, epochs=50, batch_size=32, validation_data=(X_test, y_test), verbose=1)

# Plot loss comparison
plt.plot(history_20.history['val_loss'], label='LR=0.001, 20 epochs')
plt.plot(history_50.history['val_loss'], label='LR=0.0001, 50 epochs')
plt.title('Validation Loss Comparison')
plt.xlabel('Epochs')
plt.ylabel('Loss')
plt.legend()
plt.grid()
plt.show()

# Evaluate both models
loss_20, mae_20 = model_20.evaluate(X_test, y_test)
loss_50, mae_50 = model_50.evaluate(X_test, y_test)

print(f"\nModel 1 (LR=0.001, 20 epochs) - Test Loss: {loss_20:.4f}, MAE: {mae_20:.4f}")
print(f"Model 2 (LR=0.0001, 50 epochs) - Test Loss: {loss_50:.4f}, MAE: {mae_50:.4f}")
